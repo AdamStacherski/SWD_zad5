{
 "cells": [
  {
   "cell_type": "code",
   "execution_count": 124,
   "metadata": {
    "collapsed": true
   },
   "outputs": [
    {
     "data": {
      "text/plain": "                           nazwa  procenty   ibu   ml  pospolitosc   cena\n0         Crabtree Oatmeal Stout       7.5  29.0  473     0.748441  16.07\n1                      Alpha Ale       5.1  45.0  354    10.187110  13.05\n2         Sand Island Lighthouse       5.1  25.0  354     1.746362  19.71\n3  Golden Road Hefeweizen (2012)       4.6  15.0  473     1.663202  13.09\n4            Helles Golden Lager       4.9  18.0  354     0.831601  13.59\n5   Autumnation (2011-12) (2011)       6.0  48.0  473     0.956341  13.73\n6              Voodoo Love Child       9.2  25.0  354     0.457380  11.74\n7                  Lower De Boom       9.9  92.0  248     0.124740  14.71\n8              1916 Shore Shiver       6.9  65.0  354    17.629938  19.07\n9            TailGate Hefeweizen       4.9  28.0  709     1.663202  19.10",
      "text/html": "<div>\n<style scoped>\n    .dataframe tbody tr th:only-of-type {\n        vertical-align: middle;\n    }\n\n    .dataframe tbody tr th {\n        vertical-align: top;\n    }\n\n    .dataframe thead th {\n        text-align: right;\n    }\n</style>\n<table border=\"1\" class=\"dataframe\">\n  <thead>\n    <tr style=\"text-align: right;\">\n      <th></th>\n      <th>nazwa</th>\n      <th>procenty</th>\n      <th>ibu</th>\n      <th>ml</th>\n      <th>pospolitosc</th>\n      <th>cena</th>\n    </tr>\n  </thead>\n  <tbody>\n    <tr>\n      <th>0</th>\n      <td>Crabtree Oatmeal Stout</td>\n      <td>7.5</td>\n      <td>29.0</td>\n      <td>473</td>\n      <td>0.748441</td>\n      <td>16.07</td>\n    </tr>\n    <tr>\n      <th>1</th>\n      <td>Alpha Ale</td>\n      <td>5.1</td>\n      <td>45.0</td>\n      <td>354</td>\n      <td>10.187110</td>\n      <td>13.05</td>\n    </tr>\n    <tr>\n      <th>2</th>\n      <td>Sand Island Lighthouse</td>\n      <td>5.1</td>\n      <td>25.0</td>\n      <td>354</td>\n      <td>1.746362</td>\n      <td>19.71</td>\n    </tr>\n    <tr>\n      <th>3</th>\n      <td>Golden Road Hefeweizen (2012)</td>\n      <td>4.6</td>\n      <td>15.0</td>\n      <td>473</td>\n      <td>1.663202</td>\n      <td>13.09</td>\n    </tr>\n    <tr>\n      <th>4</th>\n      <td>Helles Golden Lager</td>\n      <td>4.9</td>\n      <td>18.0</td>\n      <td>354</td>\n      <td>0.831601</td>\n      <td>13.59</td>\n    </tr>\n    <tr>\n      <th>5</th>\n      <td>Autumnation (2011-12) (2011)</td>\n      <td>6.0</td>\n      <td>48.0</td>\n      <td>473</td>\n      <td>0.956341</td>\n      <td>13.73</td>\n    </tr>\n    <tr>\n      <th>6</th>\n      <td>Voodoo Love Child</td>\n      <td>9.2</td>\n      <td>25.0</td>\n      <td>354</td>\n      <td>0.457380</td>\n      <td>11.74</td>\n    </tr>\n    <tr>\n      <th>7</th>\n      <td>Lower De Boom</td>\n      <td>9.9</td>\n      <td>92.0</td>\n      <td>248</td>\n      <td>0.124740</td>\n      <td>14.71</td>\n    </tr>\n    <tr>\n      <th>8</th>\n      <td>1916 Shore Shiver</td>\n      <td>6.9</td>\n      <td>65.0</td>\n      <td>354</td>\n      <td>17.629938</td>\n      <td>19.07</td>\n    </tr>\n    <tr>\n      <th>9</th>\n      <td>TailGate Hefeweizen</td>\n      <td>4.9</td>\n      <td>28.0</td>\n      <td>709</td>\n      <td>1.663202</td>\n      <td>19.10</td>\n    </tr>\n  </tbody>\n</table>\n</div>"
     },
     "execution_count": 124,
     "metadata": {},
     "output_type": "execute_result"
    }
   ],
   "source": [
    "import pandas as pd\n",
    "import random\n",
    "\n",
    "df = pd.read_csv('beers.csv')\n",
    "ounce_to_ml = 29.574\n",
    "sample_size = 300\n",
    "\n",
    "beer_styles = df['style']\n",
    "style_abundance = (beer_styles.value_counts(normalize=True) * 100).to_dict()\n",
    "\n",
    "\n",
    "beers = df[['name', 'abv', 'ibu', 'ounces', 'style']].dropna()\n",
    "beers['abv'] = round(100 * beers['abv'], 2)\n",
    "beers['ounces'] *= ounce_to_ml\n",
    "beers['ounces'] = beers['ounces'].astype('int')\n",
    "beers['style'] = (beers['style'].apply(lambda x: style_abundance[x])).astype('float')\n",
    "beers.columns = ['nazwa', 'procenty', 'ibu', 'ml', 'pospolitosc']\n",
    "beers.reset_index(drop=True, inplace=True)\n",
    "beers_sample = beers.sample(sample_size).reset_index(drop=True)\n",
    "beers_sample['cena'] = [round(random.uniform(8, 20), 2) for _ in range(sample_size)]\n",
    "beers_sample.head(10)"
   ]
  },
  {
   "cell_type": "markdown",
   "source": [
    "Jak to można skalować?"
   ],
   "metadata": {
    "collapsed": false,
    "pycharm": {
     "name": "#%% md\n"
    }
   }
  },
  {
   "cell_type": "code",
   "execution_count": 125,
   "outputs": [
    {
     "data": {
      "text/plain": "<Figure size 432x288 with 1 Axes>",
      "image/png": "[encoded data removed]"
     },
     "metadata": {
      "needs_background": "light"
     },
     "output_type": "display_data"
    }
   ],
   "source": [
    "import matplotlib.pyplot as plt\n",
    "import math\n",
    "\n",
    "def min_sigmoid(x, center, std):\n",
    "    return -1 / (1 + math.exp(-(x-center)/std)) + 1\n",
    "\n",
    "def max_sigmoid(x, center, std):\n",
    "    return 1 / (1 + math.exp(-(x-center)/std))\n",
    "\n",
    "x = list(range(-50, 50, 5))\n",
    "y = [min_sigmoid(e, center=0, std=25) for e in x]\n",
    "y2 = [max_sigmoid(e, center=0, std=25) for e in x]\n",
    "plt.plot(x, y, \"o\")\n",
    "plt.plot(x, y2, \"o\")\n",
    "plt.show()"
   ],
   "metadata": {
    "collapsed": false,
    "pycharm": {
     "name": "#%%\n"
    }
   }
  },
  {
   "cell_type": "code",
   "execution_count": 126,
   "outputs": [
    {
     "data": {
      "text/plain": "<Figure size 432x288 with 1 Axes>",
      "image/png": "[encoded data removed]"
     },
     "metadata": {
      "needs_background": "light"
     },
     "output_type": "display_data"
    }
   ],
   "source": [
    "def min_max_scaler_rev(x_in):\n",
    "    x = [-e for e in x_in]\n",
    "    std = lambda X: (X - min(x)) / (max(x)- min(x))\n",
    "    return [std(e) for e in x]\n",
    "\n",
    "def min_max_scaler(x_in):\n",
    "    x = x_in\n",
    "    std = lambda X: (X - min(x)) / (max(x)- min(x))\n",
    "    return [std(e) for e in x]\n",
    "\n",
    "x = list(range(-50, 50, 5))\n",
    "y = min_max_scaler(x)\n",
    "y2 = min_max_scaler_rev(x)\n",
    "plt.plot(x, y2, \"o\")\n",
    "plt.plot(x, y, \"o\")\n",
    "plt.show()"
   ],
   "metadata": {
    "collapsed": false,
    "pycharm": {
     "name": "#%%\n"
    }
   }
  },
  {
   "cell_type": "markdown",
   "source": [
    "Przeskalowanie danych w pandasie"
   ],
   "metadata": {
    "collapsed": false,
    "pycharm": {
     "name": "#%% md\n"
    }
   }
  },
  {
   "cell_type": "code",
   "execution_count": 127,
   "outputs": [],
   "source": [
    "parameters = [\"procenty\", \"ibu\", \"ml\", \"pospolitosc\", \"cena\"]\n",
    "parameter_types = [\"max\", \"max\", \"max\", \"min\", \"min\"]\n",
    "\n",
    "for parameter, parameter_type in zip(parameters, parameter_types):\n",
    "    scaler = min_max_scaler_rev if parameter_type == \"max\" else min_max_scaler\n",
    "    x = beers_sample[parameter].tolist()\n",
    "    scaled_x = scaler(x)\n",
    "    beers_sample[parameter] = scaled_x"
   ],
   "metadata": {
    "collapsed": false,
    "pycharm": {
     "name": "#%%\n"
    }
   }
  },
  {
   "cell_type": "code",
   "execution_count": 128,
   "outputs": [],
   "source": [
    "beers_sample.to_csv('piwa_kraftowe_5_kolumn.csv')"
   ],
   "metadata": {
    "collapsed": false,
    "pycharm": {
     "name": "#%%\n"
    }
   }
  },
  {
   "cell_type": "markdown",
   "source": [
    "Wygenerowanie wersji 2, 3 i 4 parametrowych przez usunięcie kolejnych kolumn z wersji 5 parametrowej."
   ],
   "metadata": {
    "collapsed": false,
    "pycharm": {
     "name": "#%% md\n"
    }
   }
  },
  {
   "cell_type": "code",
   "execution_count": 129,
   "outputs": [],
   "source": [
    "for i, column in enumerate(['pospolitosc', 'ibu', 'ml']):\n",
    "    beers_sample.drop(labels=column, axis=1, inplace=True)\n",
    "    beers_sample.to_csv(f'piwa_kraftowe_{4-i}_kolumn.csv')"
   ],
   "metadata": {
    "collapsed": false,
    "pycharm": {
     "name": "#%%\n"
    }
   }
  }
 ],
 "metadata": {
  "kernelspec": {
   "display_name": "Python 3",
   "language": "python",
   "name": "python3"
  },
  "language_info": {
   "codemirror_mode": {
    "name": "ipython",
    "version": 2
   },
   "file_extension": ".py",
   "mimetype": "text/x-python",
   "name": "python",
   "nbconvert_exporter": "python",
   "pygments_lexer": "ipython2",
   "version": "2.7.6"
  }
 },
 "nbformat": 4,
 "nbformat_minor": 0
}