{
 "cells": [
  {
   "cell_type": "code",
   "execution_count": 4,
   "metadata": {
    "collapsed": true
   },
   "outputs": [
    {
     "data": {
      "text/plain": "                         nazwa  procenty   ibu  ilosc ml  pospolitosc   cena\n0  Farmer Wirtz India Pale Ale       7.0  94.0       473     0.540541  17.52\n1               Mexican Logger       4.2  18.0       354     1.621622  19.90\n2           Snow King Pale Ale       6.0  55.0       354    10.187110  15.80\n3          Point Special Lager       4.7   9.0       473     0.748441  14.99\n4       Tonganoxie Honey Wheat       4.4  22.0       354     4.033264  17.71\n5              ESB Special Ale       5.7  58.0       354     0.831601  18.15\n6         Odyssey Imperial IPA       8.4  90.0       354     4.365904   9.05\n7                    Lobo Lito       4.0  12.0       354     0.498960  10.17\n8       Boont Amber Ale (2011)       5.8  15.0       354     5.530146  14.51\n9             Day Hike Session       4.1  41.0       354    17.629938  15.71",
      "text/html": "<div>\n<style scoped>\n    .dataframe tbody tr th:only-of-type {\n        vertical-align: middle;\n    }\n\n    .dataframe tbody tr th {\n        vertical-align: top;\n    }\n\n    .dataframe thead th {\n        text-align: right;\n    }\n</style>\n<table border=\"1\" class=\"dataframe\">\n  <thead>\n    <tr style=\"text-align: right;\">\n      <th></th>\n      <th>nazwa</th>\n      <th>procenty</th>\n      <th>ibu</th>\n      <th>ilosc ml</th>\n      <th>pospolitosc</th>\n      <th>cena</th>\n    </tr>\n  </thead>\n  <tbody>\n    <tr>\n      <th>0</th>\n      <td>Farmer Wirtz India Pale Ale</td>\n      <td>7.0</td>\n      <td>94.0</td>\n      <td>473</td>\n      <td>0.540541</td>\n      <td>17.52</td>\n    </tr>\n    <tr>\n      <th>1</th>\n      <td>Mexican Logger</td>\n      <td>4.2</td>\n      <td>18.0</td>\n      <td>354</td>\n      <td>1.621622</td>\n      <td>19.90</td>\n    </tr>\n    <tr>\n      <th>2</th>\n      <td>Snow King Pale Ale</td>\n      <td>6.0</td>\n      <td>55.0</td>\n      <td>354</td>\n      <td>10.187110</td>\n      <td>15.80</td>\n    </tr>\n    <tr>\n      <th>3</th>\n      <td>Point Special Lager</td>\n      <td>4.7</td>\n      <td>9.0</td>\n      <td>473</td>\n      <td>0.748441</td>\n      <td>14.99</td>\n    </tr>\n    <tr>\n      <th>4</th>\n      <td>Tonganoxie Honey Wheat</td>\n      <td>4.4</td>\n      <td>22.0</td>\n      <td>354</td>\n      <td>4.033264</td>\n      <td>17.71</td>\n    </tr>\n    <tr>\n      <th>5</th>\n      <td>ESB Special Ale</td>\n      <td>5.7</td>\n      <td>58.0</td>\n      <td>354</td>\n      <td>0.831601</td>\n      <td>18.15</td>\n    </tr>\n    <tr>\n      <th>6</th>\n      <td>Odyssey Imperial IPA</td>\n      <td>8.4</td>\n      <td>90.0</td>\n      <td>354</td>\n      <td>4.365904</td>\n      <td>9.05</td>\n    </tr>\n    <tr>\n      <th>7</th>\n      <td>Lobo Lito</td>\n      <td>4.0</td>\n      <td>12.0</td>\n      <td>354</td>\n      <td>0.498960</td>\n      <td>10.17</td>\n    </tr>\n    <tr>\n      <th>8</th>\n      <td>Boont Amber Ale (2011)</td>\n      <td>5.8</td>\n      <td>15.0</td>\n      <td>354</td>\n      <td>5.530146</td>\n      <td>14.51</td>\n    </tr>\n    <tr>\n      <th>9</th>\n      <td>Day Hike Session</td>\n      <td>4.1</td>\n      <td>41.0</td>\n      <td>354</td>\n      <td>17.629938</td>\n      <td>15.71</td>\n    </tr>\n  </tbody>\n</table>\n</div>"
     },
     "execution_count": 4,
     "metadata": {},
     "output_type": "execute_result"
    }
   ],
   "source": [
    "import pandas as pd\n",
    "import random\n",
    "\n",
    "df = pd.read_csv('beers.csv')\n",
    "ounce_to_ml = 29.574\n",
    "sample_size = 300\n",
    "\n",
    "beer_styles = df['style']\n",
    "style_abundance = (beer_styles.value_counts(normalize=True) * 100).to_dict()\n",
    "\n",
    "\n",
    "beers = df[['name', 'abv', 'ibu', 'ounces', 'style']].dropna()\n",
    "beers['abv'] = round(100 * beers['abv'], 2)\n",
    "beers['ounces'] *= ounce_to_ml\n",
    "beers['ounces'] = beers['ounces'].astype('int')\n",
    "beers['style'] = (beers['style'].apply(lambda x: style_abundance[x])).astype('float')\n",
    "beers.columns = ['nazwa', 'procenty', 'ibu', 'ilosc ml', 'pospolitosc']\n",
    "beers.reset_index(drop=True, inplace=True)\n",
    "beers_sample = beers.sample(sample_size).reset_index(drop=True)\n",
    "beers_sample['cena'] = [round(random.uniform(8, 20), 2) for _ in range(sample_size)]\n",
    "beers_sample.head(10)"
   ]
  },
  {
   "cell_type": "code",
   "execution_count": 5,
   "outputs": [],
   "source": [
    "beers_sample.to_csv('piwa_kraftowe_5_kolumn.csv')"
   ],
   "metadata": {
    "collapsed": false,
    "pycharm": {
     "name": "#%%\n"
    }
   }
  },
  {
   "cell_type": "markdown",
   "source": [
    "Wygenerowanie wersji 2, 3 i 4 parametrowych przez usunięcie kolejnych kolumn z wersji 5 parametrowej."
   ],
   "metadata": {
    "collapsed": false,
    "pycharm": {
     "name": "#%% md\n"
    }
   }
  },
  {
   "cell_type": "code",
   "execution_count": 6,
   "outputs": [],
   "source": [
    "for i, column in enumerate(['pospolitosc', 'ibu', 'ilosc ml']):\n",
    "    beers_sample.drop(labels=column, axis=1, inplace=True)\n",
    "    beers_sample.to_csv(f'piwa_kraftowe_{4-i}_kolumn.csv')"
   ],
   "metadata": {
    "collapsed": false,
    "pycharm": {
     "name": "#%%\n"
    }
   }
  }
 ],
 "metadata": {
  "kernelspec": {
   "display_name": "Python 3",
   "language": "python",
   "name": "python3"
  },
  "language_info": {
   "codemirror_mode": {
    "name": "ipython",
    "version": 2
   },
   "file_extension": ".py",
   "mimetype": "text/x-python",
   "name": "python",
   "nbconvert_exporter": "python",
   "pygments_lexer": "ipython2",
   "version": "2.7.6"
  }
 },
 "nbformat": 4,
 "nbformat_minor": 0
}