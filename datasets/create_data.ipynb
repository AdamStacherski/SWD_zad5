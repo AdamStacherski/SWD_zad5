{
 "cells": [
  {
   "cell_type": "code",
   "execution_count": 3,
   "metadata": {
    "collapsed": true
   },
   "outputs": [
    {
     "data": {
      "text/plain": "                                    nazwa  procenty    ibu  ilosc ml  \\\n0  Wild Wolf Wee Heavy Scottish Style Ale       5.7   20.0       354   \n1                               Ale Cider       6.5    8.0       473   \n2                     Dog Days Summer Ale       4.5   28.0       354   \n3                       Fortunate Islands       4.7   46.0       473   \n4                   Overlord Imperial IPA       8.5  115.0       473   \n5                     Ultra Gnar Gnar IPA       6.7   60.0       354   \n6    Point Nude Beach Summer Wheat (2010)       5.0    7.0       354   \n7                     East India Pale Ale       6.8   47.0       473   \n8       Sly Fox Christmas Ale 2012 (2012)       5.5   16.0       354   \n9                       Na Zdraví Pilsner       4.8   32.0       473   \n\n   pospolitosc   cena  \n0     0.623701  18.88  \n1     2.037422  14.13  \n2     1.746362  13.49  \n3     4.033264  12.07  \n4     4.365904   9.49  \n5    17.629938  14.87  \n6     4.033264  14.48  \n7     0.540541  10.10  \n8     0.623701  14.93  \n9     1.164241  13.95  ",
      "text/html": "<div>\n<style scoped>\n    .dataframe tbody tr th:only-of-type {\n        vertical-align: middle;\n    }\n\n    .dataframe tbody tr th {\n        vertical-align: top;\n    }\n\n    .dataframe thead th {\n        text-align: right;\n    }\n</style>\n<table border=\"1\" class=\"dataframe\">\n  <thead>\n    <tr style=\"text-align: right;\">\n      <th></th>\n      <th>nazwa</th>\n      <th>procenty</th>\n      <th>ibu</th>\n      <th>ilosc ml</th>\n      <th>pospolitosc</th>\n      <th>cena</th>\n    </tr>\n  </thead>\n  <tbody>\n    <tr>\n      <th>0</th>\n      <td>Wild Wolf Wee Heavy Scottish Style Ale</td>\n      <td>5.7</td>\n      <td>20.0</td>\n      <td>354</td>\n      <td>0.623701</td>\n      <td>18.88</td>\n    </tr>\n    <tr>\n      <th>1</th>\n      <td>Ale Cider</td>\n      <td>6.5</td>\n      <td>8.0</td>\n      <td>473</td>\n      <td>2.037422</td>\n      <td>14.13</td>\n    </tr>\n    <tr>\n      <th>2</th>\n      <td>Dog Days Summer Ale</td>\n      <td>4.5</td>\n      <td>28.0</td>\n      <td>354</td>\n      <td>1.746362</td>\n      <td>13.49</td>\n    </tr>\n    <tr>\n      <th>3</th>\n      <td>Fortunate Islands</td>\n      <td>4.7</td>\n      <td>46.0</td>\n      <td>473</td>\n      <td>4.033264</td>\n      <td>12.07</td>\n    </tr>\n    <tr>\n      <th>4</th>\n      <td>Overlord Imperial IPA</td>\n      <td>8.5</td>\n      <td>115.0</td>\n      <td>473</td>\n      <td>4.365904</td>\n      <td>9.49</td>\n    </tr>\n    <tr>\n      <th>5</th>\n      <td>Ultra Gnar Gnar IPA</td>\n      <td>6.7</td>\n      <td>60.0</td>\n      <td>354</td>\n      <td>17.629938</td>\n      <td>14.87</td>\n    </tr>\n    <tr>\n      <th>6</th>\n      <td>Point Nude Beach Summer Wheat (2010)</td>\n      <td>5.0</td>\n      <td>7.0</td>\n      <td>354</td>\n      <td>4.033264</td>\n      <td>14.48</td>\n    </tr>\n    <tr>\n      <th>7</th>\n      <td>East India Pale Ale</td>\n      <td>6.8</td>\n      <td>47.0</td>\n      <td>473</td>\n      <td>0.540541</td>\n      <td>10.10</td>\n    </tr>\n    <tr>\n      <th>8</th>\n      <td>Sly Fox Christmas Ale 2012 (2012)</td>\n      <td>5.5</td>\n      <td>16.0</td>\n      <td>354</td>\n      <td>0.623701</td>\n      <td>14.93</td>\n    </tr>\n    <tr>\n      <th>9</th>\n      <td>Na Zdraví Pilsner</td>\n      <td>4.8</td>\n      <td>32.0</td>\n      <td>473</td>\n      <td>1.164241</td>\n      <td>13.95</td>\n    </tr>\n  </tbody>\n</table>\n</div>"
     },
     "execution_count": 3,
     "metadata": {},
     "output_type": "execute_result"
    }
   ],
   "source": [
    "import pandas as pd\n",
    "import random\n",
    "\n",
    "df = pd.read_csv('beers.csv')\n",
    "ounce_to_ml = 29.574\n",
    "sample_size = 300\n",
    "\n",
    "beer_styles = df['style']\n",
    "style_abundance = (beer_styles.value_counts(normalize=True) * 100).to_dict()\n",
    "\n",
    "\n",
    "beers = df[['name', 'abv', 'ibu', 'ounces', 'style']].dropna()\n",
    "beers['abv'] = round(100 * beers['abv'], 2)\n",
    "beers['ounces'] *= ounce_to_ml\n",
    "beers['ounces'] = beers['ounces'].astype('int')\n",
    "beers['style'] = (beers['style'].apply(lambda x: style_abundance[x])).astype('float')\n",
    "beers.columns = ['nazwa', 'procenty', 'ibu', 'ilosc ml', 'pospolitosc']\n",
    "beers.reset_index(drop=True, inplace=True)\n",
    "beers_sample = beers.sample(sample_size).reset_index(drop=True)\n",
    "beers_sample['cena'] = [round(random.uniform(8, 20), 2) for _ in range(sample_size)]\n",
    "beers_sample.head(10)"
   ]
  },
  {
   "cell_type": "code",
   "execution_count": 4,
   "outputs": [],
   "source": [
    "beers_sample.to_csv('piwa_kraftowe.csv')"
   ],
   "metadata": {
    "collapsed": false,
    "pycharm": {
     "name": "#%%\n"
    }
   }
  },
  {
   "cell_type": "code",
   "execution_count": null,
   "outputs": [],
   "source": [],
   "metadata": {
    "collapsed": false,
    "pycharm": {
     "name": "#%%\n"
    }
   }
  }
 ],
 "metadata": {
  "kernelspec": {
   "display_name": "Python 3",
   "language": "python",
   "name": "python3"
  },
  "language_info": {
   "codemirror_mode": {
    "name": "ipython",
    "version": 2
   },
   "file_extension": ".py",
   "mimetype": "text/x-python",
   "name": "python",
   "nbconvert_exporter": "python",
   "pygments_lexer": "ipython2",
   "version": "2.7.6"
  }
 },
 "nbformat": 4,
 "nbformat_minor": 0
}